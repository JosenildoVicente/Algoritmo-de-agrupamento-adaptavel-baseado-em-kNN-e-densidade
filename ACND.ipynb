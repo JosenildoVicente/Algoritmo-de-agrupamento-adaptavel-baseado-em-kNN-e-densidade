{
  "nbformat": 4,
  "nbformat_minor": 0,
  "metadata": {
    "colab": {
      "name": "ACND.ipynb",
      "provenance": [],
      "collapsed_sections": [],
      "include_colab_link": true
    },
    "kernelspec": {
      "display_name": "Python 3",
      "name": "python3"
    },
    "language_info": {
      "name": "python"
    }
  },
  "cells": [
    {
      "cell_type": "markdown",
      "metadata": {
        "id": "view-in-github",
        "colab_type": "text"
      },
      "source": [
        "<a href=\"https://colab.research.google.com/github/JosenildoVicente/Algoritmo-de-agrupamento-adaptavel-baseado-em-kNN-e-densidade/blob/main/ACND.ipynb\" target=\"_parent\"><img src=\"https://colab.research.google.com/assets/colab-badge.svg\" alt=\"Open In Colab\"/></a>"
      ]
    },
    {
      "cell_type": "code",
      "metadata": {
        "id": "1wHW-pDV4yiX"
      },
      "source": [
        "import pandas as pd\n",
        "import numpy as np\n",
        "\n",
        "from google.colab import files\n",
        "import io\n",
        "import numpy.ma as ma\n",
        "from scipy.spatial import distance as dist\n"
      ],
      "execution_count": 353,
      "outputs": []
    },
    {
      "cell_type": "code",
      "metadata": {
        "id": "nDtdVmv95ctU"
      },
      "source": [
        "data = pd.read_csv( \"https://raw.githubusercontent.com/JosenildoVicente/Algoritmo-de-agrupamento-adaptavel-baseado-em-kNN-e-densidade/main/Aggregation.csv\", encoding=\"ISO-8859-1\" )"
      ],
      "execution_count": 354,
      "outputs": []
    },
    {
      "cell_type": "code",
      "metadata": {
        "id": "k7KP8Gv5VFiG"
      },
      "source": [
        "data.rename(columns = {' Col_1': 'Col_1'}, inplace = True)"
      ],
      "execution_count": 355,
      "outputs": []
    },
    {
      "cell_type": "code",
      "metadata": {
        "colab": {
          "base_uri": "https://localhost:8080/",
          "height": 204
        },
        "id": "3peEZmk5UonV",
        "outputId": "36d24711-f34d-4928-d2c0-2ef211d7d2cb"
      },
      "source": [
        "data.head()"
      ],
      "execution_count": 356,
      "outputs": [
        {
          "output_type": "execute_result",
          "data": {
            "text/html": [
              "<div>\n",
              "<style scoped>\n",
              "    .dataframe tbody tr th:only-of-type {\n",
              "        vertical-align: middle;\n",
              "    }\n",
              "\n",
              "    .dataframe tbody tr th {\n",
              "        vertical-align: top;\n",
              "    }\n",
              "\n",
              "    .dataframe thead th {\n",
              "        text-align: right;\n",
              "    }\n",
              "</style>\n",
              "<table border=\"1\" class=\"dataframe\">\n",
              "  <thead>\n",
              "    <tr style=\"text-align: right;\">\n",
              "      <th></th>\n",
              "      <th>Col_0</th>\n",
              "      <th>Col_1</th>\n",
              "    </tr>\n",
              "  </thead>\n",
              "  <tbody>\n",
              "    <tr>\n",
              "      <th>0</th>\n",
              "      <td>15.55</td>\n",
              "      <td>28.65</td>\n",
              "    </tr>\n",
              "    <tr>\n",
              "      <th>1</th>\n",
              "      <td>14.90</td>\n",
              "      <td>27.55</td>\n",
              "    </tr>\n",
              "    <tr>\n",
              "      <th>2</th>\n",
              "      <td>14.45</td>\n",
              "      <td>28.35</td>\n",
              "    </tr>\n",
              "    <tr>\n",
              "      <th>3</th>\n",
              "      <td>14.15</td>\n",
              "      <td>28.80</td>\n",
              "    </tr>\n",
              "    <tr>\n",
              "      <th>4</th>\n",
              "      <td>13.75</td>\n",
              "      <td>28.05</td>\n",
              "    </tr>\n",
              "  </tbody>\n",
              "</table>\n",
              "</div>"
            ],
            "text/plain": [
              "   Col_0  Col_1\n",
              "0  15.55  28.65\n",
              "1  14.90  27.55\n",
              "2  14.45  28.35\n",
              "3  14.15  28.80\n",
              "4  13.75  28.05"
            ]
          },
          "metadata": {
            "tags": []
          },
          "execution_count": 356
        }
      ]
    },
    {
      "cell_type": "markdown",
      "metadata": {
        "id": "gyRmYb8-RusA"
      },
      "source": [
        "# Etapa 1: Read and analyze data, and determine parameters"
      ]
    },
    {
      "cell_type": "code",
      "metadata": {
        "id": "c43fW8nmO0_B"
      },
      "source": [
        "N = data.shape[0]\n",
        "alfa = 0.0\n",
        "alpha = 0.0\n",
        "beta = 0.0\n",
        "gama = 0.0\n"
      ],
      "execution_count": 357,
      "outputs": []
    },
    {
      "cell_type": "code",
      "metadata": {
        "id": "x1e4X-R38bQC"
      },
      "source": [
        "for m in data:\n",
        "\n",
        "  max_s = max(data[m])\n",
        "  min_s = min(data[m])\n",
        "  rs = max_s - min_s\n",
        "  alfa += rs\n",
        "\n",
        "alpha = N/alfa\n",
        "beta = ((3.5 * alpha) + 45) / 100\n",
        "gama = ( (2 * alpha) + 18)/100\n",
        "k = max(10, (N * 0.01))\n"
      ],
      "execution_count": 358,
      "outputs": []
    },
    {
      "cell_type": "markdown",
      "metadata": {
        "id": "6eBeB6RvR1K5"
      },
      "source": [
        "#Etapa 2: Construct k-D Tree: kDT"
      ]
    },
    {
      "cell_type": "code",
      "metadata": {
        "id": "Z5i-13QDR8BY"
      },
      "source": [
        "from sklearn.neighbors import KDTree\n",
        "kdt = KDTree(data)"
      ],
      "execution_count": 359,
      "outputs": []
    },
    {
      "cell_type": "code",
      "metadata": {
        "id": "wAMdj_JfTqWj"
      },
      "source": [
        "kdt.get_arrays()"
      ],
      "execution_count": null,
      "outputs": []
    },
    {
      "cell_type": "markdown",
      "metadata": {
        "id": "0V1D_ljfUFwY"
      },
      "source": [
        "#Etapa 3: Searches kNN of sample, calculates mean of 5NN’s"
      ]
    },
    {
      "cell_type": "code",
      "metadata": {
        "id": "4evirHnbUJ_h"
      },
      "source": [
        "distance = []\n",
        "knn_index = []\n",
        "d5nn = []\n",
        "\n",
        "distance, knn_index = kdt.query(data,k)\n",
        "\n",
        "for i in range(len(knn_index)):\n",
        "  d5nn.append(np.mean(distance[i, 1:6]))\n"
      ],
      "execution_count": 361,
      "outputs": []
    },
    {
      "cell_type": "markdown",
      "metadata": {
        "id": "zzLlZoqGjNPI"
      },
      "source": [
        "#Etapa 4: Calculate the global radius of SR"
      ]
    },
    {
      "cell_type": "code",
      "metadata": {
        "id": "1GSJkKcmjQmh"
      },
      "source": [
        "d5nn = np.sort(d5nn)"
      ],
      "execution_count": 362,
      "outputs": []
    },
    {
      "cell_type": "code",
      "metadata": {
        "colab": {
          "base_uri": "https://localhost:8080/"
        },
        "id": "QYHmEOnfl5PQ",
        "outputId": "762720a9-7cf6-4736-a292-25dc716d1446"
      },
      "source": [
        "R = max(d5nn)\n",
        "R"
      ],
      "execution_count": 363,
      "outputs": [
        {
          "output_type": "execute_result",
          "data": {
            "text/plain": [
              "1.8010955367628583"
            ]
          },
          "metadata": {
            "tags": []
          },
          "execution_count": 363
        }
      ]
    },
    {
      "cell_type": "markdown",
      "metadata": {
        "id": "kB9RLLCqmag6"
      },
      "source": [
        "#Etapa 5: Calculate sample density array(Rho)"
      ]
    },
    {
      "cell_type": "code",
      "metadata": {
        "id": "wOYXbhWsuLVx"
      },
      "source": [
        "def fab(i, j, a, b):\n",
        "  d = dist.euclidean(i, j)\n",
        "  if d >= 0 and d <= a:\n",
        "    return 1\n",
        "  elif d > a and d <= b:\n",
        "    return ((b - d)/ (b-a))\n",
        "  elif d > b:\n",
        "    return 0"
      ],
      "execution_count": 364,
      "outputs": []
    },
    {
      "cell_type": "code",
      "metadata": {
        "id": "JBNz2Lq4mr-x"
      },
      "source": [
        "rho = []\n",
        "for i in range(N):\n",
        "  rho.append(0)\n",
        "surrounding_region = []\n",
        "for i in range(N):\n",
        "  surrounding_region = distance[i,] < R\n",
        "  surrounding_region = distance[i,surrounding_region]\n",
        "  surrounding_region = surrounding_region[1:]\n",
        "\n",
        "  mean_ = np.mean(surrounding_region)\n",
        "  std_dev = np.std(surrounding_region)\n",
        "  surrounding_region = np.sort(surrounding_region)\n",
        "  d1 = surrounding_region[0]\n",
        "\n",
        "  d2 = min(surrounding_region)\n",
        "  a = (d1 + d2)/2\n",
        "  exp = (a + 2*std_dev)\n",
        "  b = min( exp, R)\n",
        "\n",
        "  for j in surrounding_region:#range(len(surrounding_region)):\n",
        "    f = fab(np.mean(distance[i]),j,a,b)\n",
        "    rho[i] += f\n"
      ],
      "execution_count": 365,
      "outputs": []
    },
    {
      "cell_type": "markdown",
      "metadata": {
        "id": "Mq7pPygF0Lox"
      },
      "source": [
        "#Etapa 6: Calculate the global density threshold(T)"
      ]
    },
    {
      "cell_type": "code",
      "metadata": {
        "colab": {
          "base_uri": "https://localhost:8080/"
        },
        "id": "CPIXl6Yx0NdS",
        "outputId": "a6c9da50-6392-434d-edfc-6343bf25fae5"
      },
      "source": [
        "\n",
        "arr = []\n",
        "for i in range(N):\n",
        "  arr.append((rho[i], i))\n",
        "\n",
        "arr = np.sort(arr,0)\n",
        "arr = arr[::-1]\n",
        "\n",
        "t = np.percentile(arr, 25) \n",
        "t = t/2\n",
        "print(t)"
      ],
      "execution_count": 366,
      "outputs": [
        {
          "output_type": "stream",
          "text": [
            "4.5\n"
          ],
          "name": "stdout"
        }
      ]
    },
    {
      "cell_type": "markdown",
      "metadata": {
        "id": "QLqNNRWpOoX0"
      },
      "source": [
        "#Etapa 7: Clustering"
      ]
    },
    {
      "cell_type": "code",
      "metadata": {
        "id": "pRmAZaf219HK"
      },
      "source": [
        "def existe(arr, valor):\n",
        "  for i in arr:\n",
        "    if i == valor:\n",
        "      return True\n",
        "  return False"
      ],
      "execution_count": 367,
      "outputs": []
    },
    {
      "cell_type": "code",
      "metadata": {
        "colab": {
          "base_uri": "https://localhost:8080/"
        },
        "id": "PFTs5HvpOr2f",
        "outputId": "e500a7e9-17d9-4e06-c1f4-549208f7a1af"
      },
      "source": [
        "order_of_cluster = 0\n",
        "tag = []\n",
        "for i in range(N):\n",
        "  tag.append(False)\n",
        "queue = []\n",
        "queue_2 = []\n",
        "\n",
        "result = []\n",
        "for y in range(N):\n",
        "  result.append(0)\n",
        "\n",
        "for ind in range(N):\n",
        "  # 1 representa indice e 0 valor de arr\n",
        "  if ( tag[np.int(arr[ind][1])]):\n",
        "    continue\n",
        "  if (arr[ind][0] == 0):\n",
        "    tag[np.int(arr[ind][1])] = True\n",
        "    continue\n",
        "  if ( arr[ind][0] < t ):\n",
        "    continue\n",
        "\n",
        "  order_of_cluster += 1\n",
        "  tag[ np.int(arr[ind][1]) ] = True\n",
        "  queue.clear()\n",
        "  queue.append(arr[ind][1])\n",
        "  queue_2.append(arr[ind][1])\n",
        "  print(queue)\n",
        "  while (len(queue) > 0):\n",
        "    i = queue.pop(0)\n",
        "\n",
        "    aver = (t + rho[np.int(i)]) / 2\n",
        "    local_t = aver * beta\n",
        "\n",
        "    for e in range(k):\n",
        "      j = knn_index[np.int(i)][e]\n",
        "\n",
        "      if (distance[np.int(i)][e] > R):\n",
        "        continue\n",
        "      \n",
        "      co_nn = 0\n",
        "      for a in range(1,10):\n",
        "        for b in range(1,10):\n",
        "          if (knn_index[np.int(i)][a] == knn_index[j][b]):\n",
        "            co_nn += 1\n",
        "\n",
        "      tag[j] = True\n",
        "\n",
        "      if (rho[j]):\n",
        "        result[j] = order_of_cluster \n",
        "        if (rho[j] >= local_t and co_nn > (k * gama)):   #(Rho[j] > = localT && co_NN > k ∗γ )\n",
        "          if (not existe(queue_2,j)):\n",
        "            queue.append(j)\n",
        "            queue_2.append(j)\n"
      ],
      "execution_count": 368,
      "outputs": [
        {
          "output_type": "stream",
          "text": [
            "[787.0]\n",
            "[753.0]\n",
            "[730.0]\n",
            "[708.0]\n",
            "[613.0]\n",
            "[577.0]\n",
            "[476.0]\n",
            "[394.0]\n",
            "[317.0]\n",
            "[169.0]\n",
            "[126.0]\n"
          ],
          "name": "stdout"
        }
      ]
    },
    {
      "cell_type": "markdown",
      "metadata": {
        "id": "qOteqsUOpQJY"
      },
      "source": [
        "#Etapa 8: Post–Process clustering and save the results"
      ]
    },
    {
      "cell_type": "code",
      "metadata": {
        "colab": {
          "base_uri": "https://localhost:8080/"
        },
        "id": "9-764yF3pL_U",
        "outputId": "ba6eca75-bd4a-4fea-99c0-e7bb44893222"
      },
      "source": [
        "cluster = 1\n",
        "for cluster in range(order_of_cluster):\n",
        "  cont = 0\n",
        "  for i in result:\n",
        "    if (i == cluster):\n",
        "      cont += 1\n",
        "\n",
        "  if ( cont <= 5 ):\n",
        "    for j in range(N):\n",
        "      if (result[j] == cluster ):\n",
        "        result[j] = 0\n",
        "\n",
        "for i in range(79):\n",
        "  print(i*10,end=\" \")\n",
        "  if i == 78:\n",
        "    for j in range(8):\n",
        "      print(result[( (i*10) + j )],end=\" \")\n",
        "  else:\n",
        "    for j in range(10):\n",
        "      print(result[( (i*10) + j )],end=\" \")\n",
        "  print(\" \")"
      ],
      "execution_count": 369,
      "outputs": [
        {
          "output_type": "stream",
          "text": [
            "0 10 10 10 10 10 10 10 10 10 10  \n",
            "10 10 10 10 10 10 10 10 10 10 10  \n",
            "20 10 10 10 10 10 10 10 10 10 10  \n",
            "30 10 10 10 10 10 10 10 10 10 10  \n",
            "40 10 10 10 10 10 10 10 10 10 11  \n",
            "50 11 11 11 10 11 11 11 11 10 10  \n",
            "60 10 10 10 10 10 10 10 10 10 10  \n",
            "70 10 10 10 10 10 10 10 10 10 10  \n",
            "80 10 10 10 11 10 10 10 10 10 10  \n",
            "90 10 10 10 10 10 10 11 10 11 11  \n",
            "100 10 10 10 10 10 10 10 10 10 10  \n",
            "110 11 10 10 10 10 10 10 10 10 10  \n",
            "120 11 11 11 11 11 11 11 11 11 10  \n",
            "130 10 10 10 10 10 11 11 11 11 11  \n",
            "140 11 11 11 10 10 10 10 10 11 11  \n",
            "150 11 10 10 10 10 10 10 10 10 10  \n",
            "160 10 10 10 10 10 10 10 10 10 10  \n",
            "170 7 7 7 7 7 7 7 7 7 7  \n",
            "180 7 7 7 7 7 7 7 7 7 7  \n",
            "190 7 7 7 7 7 7 7 7 7 7  \n",
            "200 7 7 7 7 7 7 7 7 7 7  \n",
            "210 7 7 7 7 7 7 7 7 7 7  \n",
            "220 7 7 7 7 7 7 7 7 7 7  \n",
            "230 7 7 7 7 7 7 7 7 7 7  \n",
            "240 7 7 7 7 7 7 7 7 7 7  \n",
            "250 7 7 7 7 7 7 7 7 7 7  \n",
            "260 7 7 7 7 7 7 7 7 7 7  \n",
            "270 7 7 7 7 7 7 7 7 7 7  \n",
            "280 7 7 7 7 7 7 7 7 7 7  \n",
            "290 7 7 7 7 7 7 7 7 7 7  \n",
            "300 7 7 7 7 7 9 9 9 9 9  \n",
            "310 7 7 7 9 9 9 9 9 9 9  \n",
            "320 9 9 9 9 9 7 7 7 7 7  \n",
            "330 7 9 7 7 7 7 7 7 7 7  \n",
            "340 9 9 7 7 7 9 9 9 7 7  \n",
            "350 7 7 7 7 7 7 7 7 7 7  \n",
            "360 7 7 7 7 7 8 8 8 7 8  \n",
            "370 7 7 7 7 8 7 7 7 7 7  \n",
            "380 7 7 7 7 7 7 7 7 8 8  \n",
            "390 8 8 8 8 8 7 7 7 7 7  \n",
            "400 7 7 7 7 7 7 7 7 7 8  \n",
            "410 8 8 8 8 7 7 7 7 7 7  \n",
            "420 7 7 7 7 7 7 7 7 7 7  \n",
            "430 7 7 7 7 7 7 7 7 7 7  \n",
            "440 7 7 7 7 7 7 7 7 7 7  \n",
            "450 7 7 7 7 7 7 7 7 7 7  \n",
            "460 7 7 7 7 7 7 7 7 7 7  \n",
            "470 7 7 7 7 7 7 7 6 6 6  \n",
            "480 6 6 6 6 6 6 6 6 6 6  \n",
            "490 6 6 6 6 6 6 6 6 6 6  \n",
            "500 6 6 6 6 6 6 6 6 6 6  \n",
            "510 6 6 6 6 6 6 6 6 6 6  \n",
            "520 6 6 6 6 6 6 6 6 6 6  \n",
            "530 6 6 6 6 6 6 6 6 6 6  \n",
            "540 6 6 6 6 6 6 6 6 6 6  \n",
            "550 6 6 6 6 6 6 6 6 6 6  \n",
            "560 6 6 6 6 6 6 6 6 6 6  \n",
            "570 6 6 6 6 6 6 6 6 6 6  \n",
            "580 6 6 6 6 5 5 5 5 5 5  \n",
            "590 5 5 5 5 5 5 5 5 5 5  \n",
            "600 5 5 5 5 5 5 5 5 5 5  \n",
            "610 5 5 5 5 5 5 5 5 5 5  \n",
            "620 5 5 5 4 4 4 4 4 4 4  \n",
            "630 4 4 4 4 4 4 4 4 4 4  \n",
            "640 5 5 5 5 5 5 4 4 4 4  \n",
            "650 4 4 4 4 4 4 4 4 4 4  \n",
            "660 4 4 4 4 4 4 4 4 4 4  \n",
            "670 4 4 4 4 4 4 4 4 4 4  \n",
            "680 4 4 4 4 4 4 4 4 4 4  \n",
            "690 4 4 4 4 4 4 4 4 4 4  \n",
            "700 4 4 4 4 4 4 4 4 4 2  \n",
            "710 3 3 3 3 3 3 3 3 3 2  \n",
            "720 2 2 3 3 3 3 3 3 3 3  \n",
            "730 3 3 2 3 3 3 2 2 2 2  \n",
            "740 2 2 2 2 2 2 2 2 2 2  \n",
            "750 2 2 2 2 1 1 1 1 1 1  \n",
            "760 1 1 1 1 1 1 1 1 1 1  \n",
            "770 1 1 1 1 1 1 1 1 1 1  \n",
            "780 1 1 1 1 1 1 1 1  \n"
          ],
          "name": "stdout"
        }
      ]
    },
    {
      "cell_type": "code",
      "metadata": {
        "colab": {
          "base_uri": "https://localhost:8080/",
          "height": 298
        },
        "id": "vIoRNGtMTjRM",
        "outputId": "c43a3493-4e0d-4ee2-aa42-fde95717b82b"
      },
      "source": [
        "from matplotlib import pyplot as plt\n",
        "import seaborn as sns\n",
        "\n",
        "tag = result\n",
        "g =sns.scatterplot(x=\"Col_0\", y=\"Col_1\",\n",
        "              hue=tag,palette =\"Paired\",\n",
        "              data=data)\n",
        "\n",
        "plt.legend(bbox_to_anchor=(1.02, 1), loc='upper left', borderaxespad=0)\n"
      ],
      "execution_count": 370,
      "outputs": [
        {
          "output_type": "execute_result",
          "data": {
            "text/plain": [
              "<matplotlib.legend.Legend at 0x7fe2306d6410>"
            ]
          },
          "metadata": {
            "tags": []
          },
          "execution_count": 370
        },
        {
          "output_type": "display_data",
          "data": {
            "image/png": "[encoded data removed]",
            "text/plain": [
              "<Figure size 432x288 with 1 Axes>"
            ]
          },
          "metadata": {
            "tags": [],
            "needs_background": "light"
          }
        }
      ]
    }
  ]
}