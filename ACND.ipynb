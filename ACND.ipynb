{
  "nbformat": 4,
  "nbformat_minor": 0,
  "metadata": {
    "colab": {
      "name": "ACND.ipynb",
      "provenance": [],
      "collapsed_sections": [],
      "include_colab_link": true
    },
    "kernelspec": {
      "name": "python3",
      "display_name": "Python 3"
    },
    "language_info": {
      "name": "python"
    }
  },
  "cells": [
    {
      "cell_type": "markdown",
      "metadata": {
        "id": "view-in-github",
        "colab_type": "text"
      },
      "source": [
        "<a href=\"https://colab.research.google.com/github/JosenildoVicente/Algoritmo-de-agrupamento-adaptavel-baseado-em-kNN-e-densidade/blob/main/ACND.ipynb\" target=\"_parent\"><img src=\"https://colab.research.google.com/assets/colab-badge.svg\" alt=\"Open In Colab\"/></a>"
      ]
    },
    {
      "cell_type": "code",
      "metadata": {
        "id": "1wHW-pDV4yiX"
      },
      "source": [
        "import pandas as pd\n",
        "import numpy as np\n",
        "\n",
        "from google.colab import files\n",
        "import io\n",
        "import numpy.ma as ma\n",
        "from scipy.spatial import distance as dist\n"
      ],
      "execution_count": 160,
      "outputs": []
    },
    {
      "cell_type": "code",
      "metadata": {
        "id": "nDtdVmv95ctU"
      },
      "source": [
        "data = pd.read_csv( \"https://raw.githubusercontent.com/JosenildoVicente/Algoritmo-de-agrupamento-adaptavel-baseado-em-kNN-e-densidade/main/Aggregation.csv\", encoding=\"ISO-8859-1\" )"
      ],
      "execution_count": 17,
      "outputs": []
    },
    {
      "cell_type": "code",
      "metadata": {
        "colab": {
          "base_uri": "https://localhost:8080/",
          "height": 204
        },
        "id": "ZAW4AndGGD49",
        "outputId": "9423d8ed-afdb-4fc9-c664-088ba2f825c1"
      },
      "source": [
        "data.head()"
      ],
      "execution_count": 18,
      "outputs": [
        {
          "output_type": "execute_result",
          "data": {
            "text/html": [
              "<div>\n",
              "<style scoped>\n",
              "    .dataframe tbody tr th:only-of-type {\n",
              "        vertical-align: middle;\n",
              "    }\n",
              "\n",
              "    .dataframe tbody tr th {\n",
              "        vertical-align: top;\n",
              "    }\n",
              "\n",
              "    .dataframe thead th {\n",
              "        text-align: right;\n",
              "    }\n",
              "</style>\n",
              "<table border=\"1\" class=\"dataframe\">\n",
              "  <thead>\n",
              "    <tr style=\"text-align: right;\">\n",
              "      <th></th>\n",
              "      <th>Col_0</th>\n",
              "      <th>Col_1</th>\n",
              "    </tr>\n",
              "  </thead>\n",
              "  <tbody>\n",
              "    <tr>\n",
              "      <th>0</th>\n",
              "      <td>15.55</td>\n",
              "      <td>28.65</td>\n",
              "    </tr>\n",
              "    <tr>\n",
              "      <th>1</th>\n",
              "      <td>14.90</td>\n",
              "      <td>27.55</td>\n",
              "    </tr>\n",
              "    <tr>\n",
              "      <th>2</th>\n",
              "      <td>14.45</td>\n",
              "      <td>28.35</td>\n",
              "    </tr>\n",
              "    <tr>\n",
              "      <th>3</th>\n",
              "      <td>14.15</td>\n",
              "      <td>28.80</td>\n",
              "    </tr>\n",
              "    <tr>\n",
              "      <th>4</th>\n",
              "      <td>13.75</td>\n",
              "      <td>28.05</td>\n",
              "    </tr>\n",
              "  </tbody>\n",
              "</table>\n",
              "</div>"
            ],
            "text/plain": [
              "   Col_0   Col_1\n",
              "0  15.55   28.65\n",
              "1  14.90   27.55\n",
              "2  14.45   28.35\n",
              "3  14.15   28.80\n",
              "4  13.75   28.05"
            ]
          },
          "metadata": {
            "tags": []
          },
          "execution_count": 18
        }
      ]
    },
    {
      "cell_type": "markdown",
      "metadata": {
        "id": "gyRmYb8-RusA"
      },
      "source": [
        "# Etapa 1: Read and analyze data, and determine parameters"
      ]
    },
    {
      "cell_type": "code",
      "metadata": {
        "id": "c43fW8nmO0_B"
      },
      "source": [
        "N = data.shape[0]\n",
        "alfa = 0.0\n",
        "alpha = 0.0\n",
        "beta = 0.0\n",
        "gama = 0.0\n"
      ],
      "execution_count": 51,
      "outputs": []
    },
    {
      "cell_type": "code",
      "metadata": {
        "id": "x1e4X-R38bQC"
      },
      "source": [
        "for m in data:\n",
        "\n",
        "  max_s = max(data[m])\n",
        "  min_s = min(data[m])\n",
        "  rs = max_s - min_s\n",
        "  alfa += rs\n",
        "\n",
        "# α = N/alpha; β = (3.5α + 45)/100;\n",
        "#γ = (2α + 18)/100; k = max(10, N∗1%);\n",
        "\n",
        "alpha = N/alfa\n",
        "beta = ((3.5 * alpha) + 45) / 100\n",
        "gama = ( (2 * alpha) + 18)/100\n",
        "k = max(10, (N * 0.01))\n",
        "print(k)"
      ],
      "execution_count": null,
      "outputs": []
    },
    {
      "cell_type": "markdown",
      "metadata": {
        "id": "6eBeB6RvR1K5"
      },
      "source": [
        "#Etapa 2: Construct k-D Tree: kDT"
      ]
    },
    {
      "cell_type": "code",
      "metadata": {
        "id": "Z5i-13QDR8BY"
      },
      "source": [
        "from sklearn.neighbors import KDTree\n",
        "kdt = KDTree(data)\n",
        "print(kdt.data.shape)"
      ],
      "execution_count": null,
      "outputs": []
    },
    {
      "cell_type": "code",
      "metadata": {
        "id": "wAMdj_JfTqWj"
      },
      "source": [
        "kdt.get_arrays()"
      ],
      "execution_count": null,
      "outputs": []
    },
    {
      "cell_type": "markdown",
      "metadata": {
        "id": "0V1D_ljfUFwY"
      },
      "source": [
        "#Etapa 3: Searches kNN of sample, calculates mean of 5NN’s"
      ]
    },
    {
      "cell_type": "code",
      "metadata": {
        "id": "4evirHnbUJ_h"
      },
      "source": [
        "distance = []\n",
        "knn_index = []\n",
        "d5nn = []\n",
        "\n",
        "distance, knn_index = kdt.query(data,k)\n",
        "\n",
        "for i in range(len(knn_index)):\n",
        "  d5nn.append(np.mean(distance[i, 1:5]))\n"
      ],
      "execution_count": 128,
      "outputs": []
    },
    {
      "cell_type": "markdown",
      "metadata": {
        "id": "zzLlZoqGjNPI"
      },
      "source": [
        "#Etapa 4: Calculate the global radius of SR"
      ]
    },
    {
      "cell_type": "code",
      "metadata": {
        "id": "1GSJkKcmjQmh"
      },
      "source": [
        "d5nn = np.sort(d5nn)"
      ],
      "execution_count": 129,
      "outputs": []
    },
    {
      "cell_type": "code",
      "metadata": {
        "colab": {
          "base_uri": "https://localhost:8080/"
        },
        "id": "QYHmEOnfl5PQ",
        "outputId": "1535a486-f8a2-4613-b7ae-d7596392a71a"
      },
      "source": [
        "R = max(d5nn)\n",
        "R"
      ],
      "execution_count": 131,
      "outputs": [
        {
          "output_type": "execute_result",
          "data": {
            "text/plain": [
              "1.6356889031523352"
            ]
          },
          "metadata": {
            "tags": []
          },
          "execution_count": 131
        }
      ]
    },
    {
      "cell_type": "markdown",
      "metadata": {
        "id": "kB9RLLCqmag6"
      },
      "source": [
        "#Etapa 5: Calculate sample density array(Rho)"
      ]
    },
    {
      "cell_type": "code",
      "metadata": {
        "id": "wOYXbhWsuLVx"
      },
      "source": [
        "def fab(i, j, a, b):\n",
        "  d = dist.euclidean(i, j)\n",
        "  if d >= 0 and d <= a:\n",
        "    return 1\n",
        "  elif d > a and d <= b:\n",
        "    return ((b - d)/ (b-a))\n",
        "  elif d > b:\n",
        "    return 0"
      ],
      "execution_count": 161,
      "outputs": []
    },
    {
      "cell_type": "code",
      "metadata": {
        "id": "JBNz2Lq4mr-x"
      },
      "source": [
        "rho = []\n",
        "for i in range(N):\n",
        "  surrounding_region = distance[i,] < R\n",
        "  surrounding_region = distance[i,surrounding_region]\n",
        "  surrounding_region = surrounding_region[1:]\n",
        "\n",
        "  mean_ = np.mean(surrounding_region)\n",
        "  std_dev = np.std(surrounding_region)\n",
        "  surrounding_region = np.sort(surrounding_region)\n",
        "  d1 = 0.1 * surrounding_region\n",
        "  d2 = min(surrounding_region)\n",
        "  a = (d1 + d2)/2\n",
        "  exp = (a + 2*std_dev)\n",
        "  b = min( min(exp), R)\n",
        "\n",
        "#   for (j in surrounding-region) {\n",
        "# f(i, j) = fab(i, j, a, b) // Eq. (5)\n",
        "# Rho[i] + = f(i, j);}//for j}//for i\n",
        "  rho.append(0)\n",
        "  for j in surrounding_region:#range(len(surrounding_region)):\n",
        "    f = fab(distance[i,1],j,min(a),b)\n",
        "    rho[i] += f\n",
        "  print(rho[i])\n",
        "\n"
      ],
      "execution_count": null,
      "outputs": []
    },
    {
      "cell_type": "markdown",
      "metadata": {
        "id": "Mq7pPygF0Lox"
      },
      "source": [
        "#Etapa 6: Calculate the global density threshold(T)"
      ]
    },
    {
      "cell_type": "code",
      "metadata": {
        "colab": {
          "base_uri": "https://localhost:8080/"
        },
        "id": "CPIXl6Yx0NdS",
        "outputId": "fc1f06ca-9e04-4c0c-ddd7-3795b0f0d3da"
      },
      "source": [
        "# for (i = 0; i < N; i + + ) Arr[i] = (Rho[i], i);\n",
        "# sort(Arr); // in descending order\n",
        "# T = lower-Quartile(Arr);\n",
        "arr = []\n",
        "for i in range(N):\n",
        "  arr.append((rho[i], i))\n",
        "\n",
        "arr = np.sort(arr,0)\n",
        "arr = arr[::-1]\n",
        "\n",
        "t = np.percentile(arr, 25) \n",
        "t"
      ],
      "execution_count": 176,
      "outputs": [
        {
          "output_type": "execute_result",
          "data": {
            "text/plain": [
              "5.2737409115052625"
            ]
          },
          "metadata": {
            "tags": []
          },
          "execution_count": 176
        }
      ]
    }
  ]
}